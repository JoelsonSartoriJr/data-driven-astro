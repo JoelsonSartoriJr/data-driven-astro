{
 "cells": [
  {
   "cell_type": "code",
   "execution_count": 1,
   "metadata": {},
   "outputs": [],
   "source": [
    "import numpy as np\n",
    "import time"
   ]
  },
  {
   "cell_type": "code",
   "execution_count": 7,
   "metadata": {},
   "outputs": [],
   "source": [
    "def angular_dist(r1, d1, r2, d2):\n",
    "    a = np.sin(np.abs(d1 - d2)/2)**2\n",
    "    b = np.cos(d1)*np.cos(d2)*np.sin(np.abs(r1 - r2)/2)**2\n",
    "    d = 2*np.arcsin(np.sqrt(a + b))\n",
    "    return d"
   ]
  },
  {
   "cell_type": "code",
   "execution_count": 8,
   "metadata": {},
   "outputs": [],
   "source": [
    "def crossmatch(cat1, cat2, max_radius):\n",
    "    s_time = time.perf_counter()\n",
    "    max_radius = np.radians(max_radius)\n",
    "    \n",
    "    matches = []\n",
    "    no_matches = []\n",
    "    \n",
    "    #Convet cordinates to radians\n",
    "    cat1 = np.radians(cat1)\n",
    "    cat2 = np.radians(cat2)\n",
    "    ra2s = cat2[:,0]\n",
    "    dec2s = cat2[:,1]\n",
    "    \n",
    "    for id1, (ra1, dec1) in enumerate(cat1):\n",
    "        dists = angular_dist(ra1, dec1, ra2s, dec2s)\n",
    "        min_id = np.argmin(dists)\n",
    "        min_dist = dists[min_id]\n",
    "        \n",
    "        if min_dist > max_radius:\n",
    "            no_matches.append(id1)\n",
    "        else:\n",
    "            matches.append((id1, min_id, np.degrees(min_dist)))\n",
    "            \n",
    "    time_taken = time.perf_counter() - s_time\n",
    "    \n",
    "    return matches, no_matches, time_taken"
   ]
  },
  {
   "cell_type": "code",
   "execution_count": 9,
   "metadata": {},
   "outputs": [
    {
     "name": "stdout",
     "output_type": "stream",
     "text": [
      "[  2.         113.72587199 132.64478705]\n",
      "matches: [(0, 0, 2.0000000000000027), (2, 2, 1.7420109046547023)]\n",
      "unmatched: [1]\n",
      "time taken: 0.0001832410007409635\n",
      "matches: []\n",
      "unmatched: [0, 1, 2, 3, 4, 5, 6, 7, 8, 9]\n",
      "time taken: 0.0011378959998182836\n"
     ]
    }
   ],
   "source": [
    "# You can use this to test your function.\n",
    "# Any code inside this `if` statement will be ignored by the automarker.\n",
    "if __name__ == '__main__':\n",
    "  # The example in the question\n",
    "    ra1, dec1 = np.radians([180, 30])\n",
    "    cat2 = [[180, 32], [55, 10], [302, -44]]\n",
    "    cat2 = np.radians(cat2)\n",
    "    ra2s, dec2s = cat2[:,0], cat2[:,1]\n",
    "    dists = angular_dist(ra1, dec1, ra2s, dec2s)\n",
    "    print(np.degrees(dists))\n",
    "  \n",
    "    cat1 = np.array([[180, 30], [45, 10], [300, -45]])\n",
    "    cat2 = np.array([[180, 32], [55, 10], [302, -44]])\n",
    "    matches, no_matches, time_taken = crossmatch(cat1, cat2, 5)\n",
    "    print('matches:', matches)\n",
    "    print('unmatched:', no_matches)\n",
    "    print('time taken:', time_taken)\n",
    "\n",
    "    # A function to create a random catalogue of size n\n",
    "    def create_cat(n):\n",
    "        ras = np.random.uniform(0, 360, size=(n, 1))\n",
    "        decs = np.random.uniform(-90, 90, size=(n, 1))\n",
    "        return np.hstack((ras, decs))\n",
    "\n",
    "    # Test your function on random inputs\n",
    "    cat1 = create_cat(10)\n",
    "    cat2 = create_cat(20)\n",
    "    matches, no_matches, time_taken = crossmatch(cat1, cat2, 5)\n",
    "    print('matches:', matches)\n",
    "    print('unmatched:', no_matches)\n",
    "    print('time taken:', time_taken)"
   ]
  }
 ],
 "metadata": {
  "kernelspec": {
   "display_name": "Python 3",
   "language": "python",
   "name": "python3"
  },
  "language_info": {
   "codemirror_mode": {
    "name": "ipython",
    "version": 3
   },
   "file_extension": ".py",
   "mimetype": "text/x-python",
   "name": "python",
   "nbconvert_exporter": "python",
   "pygments_lexer": "ipython3",
   "version": "3.7.3"
  }
 },
 "nbformat": 4,
 "nbformat_minor": 2
}
