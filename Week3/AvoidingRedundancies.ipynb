{
 "cells": [
  {
   "cell_type": "code",
   "execution_count": 1,
   "metadata": {},
   "outputs": [],
   "source": [
    "import numpy as np\n",
    "import time"
   ]
  },
  {
   "cell_type": "code",
   "execution_count": 2,
   "metadata": {},
   "outputs": [],
   "source": [
    "def angular_dist(d1, r1, d2, r2):\n",
    "    a = np.sin(np.abs(d1 - d2)/2)**2\n",
    "    b = np.cos(d1)*np.cos(d2)*np.sin(np.abs(r1 - r2)/2)**2\n",
    "    d = 2*np.arcsin(np.sqrt(a + b))\n",
    "    return d"
   ]
  },
  {
   "cell_type": "code",
   "execution_count": 6,
   "metadata": {},
   "outputs": [],
   "source": [
    "def crossmatch(cat1, cat2, max_radius):\n",
    "    s_time = time.perf_counter()\n",
    "    max_radius = np.radians(max_radius)\n",
    "    \n",
    "    matches = []\n",
    "    no_matches = []\n",
    "    \n",
    "    #Convert coordinates to radians\n",
    "    cat1 = np.radians(cat1)\n",
    "    cat2 = np.radians(cat2)\n",
    "    order = np.argsort(cat2[:,1])\n",
    "    cat2_ordered = cat2[order]\n",
    "    \n",
    "    for id1, (ra1, dec1) in enumerate(cat1):\n",
    "        min_dist = np.inf\n",
    "        min_id2 = None\n",
    "        max_dec = dec1 + max_radius\n",
    "        \n",
    "        for id2, (ra2, dec2) in enumerate(cat2_ordered):\n",
    "            if dec2 > max_dec:\n",
    "                break\n",
    "            \n",
    "            dist = angular_dist(ra1, dec1, ra2, dec2)\n",
    "            \n",
    "            if dist < min_dist:\n",
    "                min_id2 = order[id2]\n",
    "                min_dist = dist\n",
    "        \n",
    "        if min_dist > max_radius:\n",
    "            no_matches.append(id1)\n",
    "        else:\n",
    "            matches.append((id1, min_id2, np.degrees(min_dist)))\n",
    "    \n",
    "    time_taken = time.perf_counter() - s_time\n",
    "    \n",
    "    return matches, no_matches, time_taken"
   ]
  },
  {
   "cell_type": "code",
   "execution_count": 7,
   "metadata": {},
   "outputs": [
    {
     "name": "stdout",
     "output_type": "stream",
     "text": [
      "matches: [(0, 0, 2.0000000000000027), (2, 2, 2.065189701449411)]\n",
      "unmatched: [1]\n",
      "time taken: 0.0002924109994637547\n",
      "matches: []\n",
      "unmatched: [0, 1, 2, 3, 4, 5, 6, 7, 8, 9]\n",
      "time taken: 0.0030980440005805576\n"
     ]
    }
   ],
   "source": [
    "# You can use this to test your function.\n",
    "# Any code inside this `if` statement will be ignored by the automarker.\n",
    "if __name__ == '__main__':\n",
    "    # The example in the question\n",
    "    cat1 = np.array([[180, 30], [45, 10], [300, -45]])\n",
    "    cat2 = np.array([[180, 32], [55, 10], [302, -44]])\n",
    "    matches, no_matches, time_taken = crossmatch(cat1, cat2, 5)\n",
    "    print('matches:', matches)\n",
    "    print('unmatched:', no_matches)\n",
    "    print('time taken:', time_taken)\n",
    "\n",
    "    # A function to create a random catalogue of size n\n",
    "    def create_cat(n):\n",
    "        ras = np.random.uniform(0, 360, size=(n, 1))\n",
    "        decs = np.random.uniform(-90, 90, size=(n, 1))\n",
    "        return np.hstack((ras, decs))\n",
    "\n",
    "    # Test your function on random inputs\n",
    "    np.random.seed(0)\n",
    "    cat1 = create_cat(10)\n",
    "    cat2 = create_cat(20)\n",
    "    matches, no_matches, time_taken = crossmatch(cat1, cat2, 5)\n",
    "    print('matches:', matches)\n",
    "    print('unmatched:', no_matches)\n",
    "    print('time taken:', time_taken)"
   ]
  }
 ],
 "metadata": {
  "kernelspec": {
   "display_name": "Python 3",
   "language": "python",
   "name": "python3"
  },
  "language_info": {
   "codemirror_mode": {
    "name": "ipython",
    "version": 3
   },
   "file_extension": ".py",
   "mimetype": "text/x-python",
   "name": "python",
   "nbconvert_exporter": "python",
   "pygments_lexer": "ipython3",
   "version": "3.7.3"
  }
 },
 "nbformat": 4,
 "nbformat_minor": 2
}
