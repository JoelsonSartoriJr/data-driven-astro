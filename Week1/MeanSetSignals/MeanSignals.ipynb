{
 "cells": [
  {
   "cell_type": "code",
   "execution_count": 2,
   "metadata": {},
   "outputs": [],
   "source": [
    "import numpy as np"
   ]
  },
  {
   "cell_type": "code",
   "execution_count": 12,
   "metadata": {},
   "outputs": [],
   "source": [
    "def mean_datasets(listCSV):\n",
    "    n = len(listCSV)\n",
    "    if n > 0:\n",
    "        fileCsv = np.genfromtxt(listCSV[0], delimiter=',')\n",
    "        for i in range(1, n):\n",
    "            fileCsv += np.genfromtxt(listCSV[i], delimiter=',')\n",
    "        mean = fileCsv/n\n",
    "        return np.around(mean, 1)"
   ]
  },
  {
   "cell_type": "code",
   "execution_count": 14,
   "metadata": {},
   "outputs": [
    {
     "name": "stdout",
     "output_type": "stream",
     "text": [
      "[[11.  11.9 13. ]\n",
      " [ 9.5  6.8  9.4]\n",
      " [ 7.2 11.1 12.5]\n",
      " [ 8.8  7.3  9.2]\n",
      " [16.6 10.6 10.3]]\n",
      "------------------\n",
      "[[-2.9  2.6  0.6 -5.4]\n",
      " [-4.4 -0.7  0.7 -0.2]\n",
      " [-1.7  2.5 -8.7 -5.4]]\n"
     ]
    }
   ],
   "source": [
    "if __name__ == '__main__':\n",
    "    \n",
    "    print(mean_datasets(['data1.csv', 'data2.csv', 'data3.csv']))\n",
    "    print('------------------')\n",
    "    print(mean_datasets(['data4.csv', 'data5.csv', 'data6.csv']))"
   ]
  },
  {
   "cell_type": "code",
   "execution_count": null,
   "metadata": {},
   "outputs": [],
   "source": []
  }
 ],
 "metadata": {
  "kernelspec": {
   "display_name": "Python 3",
   "language": "python",
   "name": "python3"
  },
  "language_info": {
   "codemirror_mode": {
    "name": "ipython",
    "version": 3
   },
   "file_extension": ".py",
   "mimetype": "text/x-python",
   "name": "python",
   "nbconvert_exporter": "python",
   "pygments_lexer": "ipython3",
   "version": "3.7.3"
  }
 },
 "nbformat": 4,
 "nbformat_minor": 2
}
