{
 "cells": [
  {
   "cell_type": "code",
   "execution_count": null,
   "metadata": {},
   "outputs": [],
   "source": [
    "import numpy as np\n",
    "import time\n",
    "from astropy.io import fits"
   ]
  },
  {
   "cell_type": "code",
   "execution_count": null,
   "metadata": {},
   "outputs": [],
   "source": [
    "def median_fits(list_fits):\n",
    "    \n",
    "    start = time.time()\n",
    "    fits_list = []\n",
    "    for file in list_fits:\n",
    "        hdulist = fits.open(file)\n",
    "        fits_list.append(hdulist[0].data)\n",
    "        hdulist.close()\n",
    "    fits_stack = np.dstack(fits_list)\n",
    "    median = np.median(fits_stack, axis = 2)\n",
    "    memory = fi\n",
    "            \n",
    "start  = time.time()\n",
    "  fits_list = []\n",
    "  for file in files:\n",
    "    hdulist = fits.open(file)\n",
    "    fits_list.append(hdulist[0].data)\n",
    "    hdulist.close()\n",
    "  \n",
    "  fits_stack = np.dstack(fits_list)\n",
    "  median = np.median(fits_stack, axis = 2)\n",
    "  \n",
    "  memory = fits_stack.nbytes\n",
    "  \n",
    "  memory /= 1024\n",
    "  \n",
    "  stop = time.time() - start\n",
    "  \n",
    "  return median, stop, memory\n",
    "        "
   ]
  },
  {
   "cell_type": "code",
   "execution_count": null,
   "metadata": {},
   "outputs": [],
   "source": [
    "  return median, stop, memory\n",
    "\n",
    "if __name__ == '__main__':\n",
    "    result = median_fits(['image0.fits', 'image1.fits'])\n",
    "    print(result[0][100, 100], result[1], result[2])\n",
    "  \n",
    "    result = median_fits(['image{}.fits'.format(str(i)) for i in range(11)])\n",
    "    print(result[0][100, 100], result[1], result[2])"
   ]
  }
 ],
 "metadata": {
  "kernelspec": {
   "display_name": "Python 3",
   "language": "python",
   "name": "python3"
  },
  "language_info": {
   "codemirror_mode": {
    "name": "ipython",
    "version": 3
   },
   "file_extension": ".py",
   "mimetype": "text/x-python",
   "name": "python",
   "nbconvert_exporter": "python",
   "pygments_lexer": "ipython3",
   "version": "3.7.3"
  }
 },
 "nbformat": 4,
 "nbformat_minor": 2
}
