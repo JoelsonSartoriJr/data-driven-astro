{
 "cells": [
  {
   "cell_type": "code",
   "execution_count": 3,
   "metadata": {},
   "outputs": [],
   "source": [
    "def calculate_mean(array):\n",
    "    \"\"\"Calculated mean\n",
    "    \n",
    "    Arguments:\n",
    "        array {array} -- fits list\n",
    "    Returns:\n",
    "        float -- mean vector\n",
    "    \"\"\"\n",
    "    n = len(array)\n",
    "    s = sum(array)\n",
    "    return s/n"
   ]
  },
  {
   "cell_type": "code",
   "execution_count": 7,
   "metadata": {},
   "outputs": [
    {
     "name": "stdout",
     "output_type": "stream",
     "text": [
      "Mean 1:  2.96\n",
      "Mean 2:  4.5\n"
     ]
    }
   ],
   "source": [
    "if __name__ == '__main__':\n",
    "    mean = calculate_mean([1,2.2,0.3,3.4,7.9])\n",
    "    print(\"Mean 1: \", mean)\n",
    "    mean =calculate_mean([1.2, 3.8, 2.2, 8.2, 7.1])\n",
    "    print(\"Mean 2: \", mean)"
   ]
  }
 ],
 "metadata": {
  "kernelspec": {
   "display_name": "Python 3",
   "language": "python",
   "name": "python3"
  },
  "language_info": {
   "codemirror_mode": {
    "name": "ipython",
    "version": 3
   },
   "file_extension": ".py",
   "mimetype": "text/x-python",
   "name": "python",
   "nbconvert_exporter": "python",
   "pygments_lexer": "ipython3",
   "version": "3.7.3"
  }
 },
 "nbformat": 4,
 "nbformat_minor": 2
}
