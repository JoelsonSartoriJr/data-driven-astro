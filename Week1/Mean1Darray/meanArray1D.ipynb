{
 "cells": [
  {
   "cell_type": "code",
   "execution_count": 1,
   "metadata": {},
   "outputs": [],
   "source": [
    "import numpy as np"
   ]
  },
  {
   "cell_type": "code",
   "execution_count": 6,
   "metadata": {},
   "outputs": [],
   "source": [
    "def calc_stats(file):\n",
    "    \"\"\"Calculated mean from csv files\n",
    "    \n",
    "    Arguments:\n",
    "        file {string} -- name cvs\n",
    "    Returns:\n",
    "        float -- mean and median values\n",
    "    \"\"\"\n",
    "    csv = np.genfromtxt(file, delimiter=',')\n",
    "    mean = round(np.mean(csv), 1)\n",
    "    median = round(np.median(csv), 1)\n",
    "    return mean, median"
   ]
  },
  {
   "cell_type": "code",
   "execution_count": 7,
   "metadata": {},
   "outputs": [
    {
     "name": "stdout",
     "output_type": "stream",
     "text": [
      "Mean data:  (11.1, 11.4)\n",
      "Mean data2:  (11.4, 10.4)\n",
      "Mean data3:  (11.6, 12.5)\n"
     ]
    }
   ],
   "source": [
    "if __name__ == '__main__':\n",
    "    mean = calc_stats('data.csv')\n",
    "    print(\"Mean data: \", mean)\n",
    "    mean2 = calc_stats('data2.csv')\n",
    "    print(\"Mean data2: \", mean2)\n",
    "    mean3 = calc_stats('data3.csv')\n",
    "    print(\"Mean data3: \", mean3)"
   ]
  }
 ],
 "metadata": {
  "kernelspec": {
   "display_name": "Python 3",
   "language": "python",
   "name": "python3"
  },
  "language_info": {
   "codemirror_mode": {
    "name": "ipython",
    "version": 3
   },
   "file_extension": ".py",
   "mimetype": "text/x-python",
   "name": "python",
   "nbconvert_exporter": "python",
   "pygments_lexer": "ipython3",
   "version": "3.7.3"
  }
 },
 "nbformat": 4,
 "nbformat_minor": 2
}
