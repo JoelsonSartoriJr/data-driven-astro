{
 "cells": [
  {
   "cell_type": "code",
   "execution_count": 2,
   "metadata": {},
   "outputs": [],
   "source": [
    "import numpy as np"
   ]
  },
  {
   "cell_type": "code",
   "execution_count": 3,
   "metadata": {},
   "outputs": [],
   "source": [
    "def calc_stats(file):\n",
    "    file_csv = np.genfromtxt(file, delimiter=',')\n",
    "    return round(np.mean(file_csv), 1), round(np.median(file_csv), 1)"
   ]
  },
  {
   "cell_type": "code",
   "execution_count": 4,
   "metadata": {},
   "outputs": [
    {
     "name": "stdout",
     "output_type": "stream",
     "text": [
      "(11.1, 11.4)\n",
      "(11.4, 10.4)\n",
      "(11.6, 12.5)\n"
     ]
    }
   ],
   "source": [
    "if __name__ == '__main__':\n",
    "    # Run your `calc_stats` function with examples:\n",
    "    mean1 = calc_stats('data.csv')\n",
    "    print(mean1)\n",
    "    mean2 = calc_stats('data2.csv')\n",
    "    print(mean2)\n",
    "    mean3 = calc_stats('data3.csv')\n",
    "    print(mean3)"
   ]
  }
 ],
 "metadata": {
  "kernelspec": {
   "display_name": "Python 3",
   "language": "python",
   "name": "python3"
  },
  "language_info": {
   "codemirror_mode": {
    "name": "ipython",
    "version": 3
   },
   "file_extension": ".py",
   "mimetype": "text/x-python",
   "name": "python",
   "nbconvert_exporter": "python",
   "pygments_lexer": "ipython3",
   "version": "3.7.3"
  }
 },
 "nbformat": 4,
 "nbformat_minor": 2
}
