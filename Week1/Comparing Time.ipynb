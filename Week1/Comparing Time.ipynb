{
 "cells": [
  {
   "cell_type": "code",
   "execution_count": 1,
   "metadata": {},
   "outputs": [],
   "source": [
    "import numpy as np\n",
    "import statistics\n",
    "import time"
   ]
  },
  {
   "cell_type": "code",
   "execution_count": 10,
   "metadata": {},
   "outputs": [],
   "source": [
    "def time_stat(func, size, n_trials):\n",
    "    t_result = 0\n",
    "    for i in range(n_trials):\n",
    "        data = np.random.rand(size)\n",
    "        start = time.perf_counter()\n",
    "        res = func(data)\n",
    "        t_result += time.perf_counter() - start\n",
    "    \n",
    "    return t_result/n_trials"
   ]
  },
  {
   "cell_type": "code",
   "execution_count": 11,
   "metadata": {},
   "outputs": [
    {
     "name": "stdout",
     "output_type": "stream",
     "text": [
      "0.119875s for statistics.mean\n",
      "0.000049s for np.mean\n"
     ]
    }
   ],
   "source": [
    "if __name__ == '__main__':\n",
    "    print('{:.6f}s for statistics.mean'.format(time_stat(statistics.mean, 10**5, 10)))\n",
    "    print('{:.6f}s for np.mean'.format(time_stat(np.mean, 10**5, 1000)))"
   ]
  }
 ],
 "metadata": {
  "kernelspec": {
   "display_name": "Python 3",
   "language": "python",
   "name": "python3"
  },
  "language_info": {
   "codemirror_mode": {
    "name": "ipython",
    "version": 3
   },
   "file_extension": ".py",
   "mimetype": "text/x-python",
   "name": "python",
   "nbconvert_exporter": "python",
   "pygments_lexer": "ipython3",
   "version": "3.7.3"
  }
 },
 "nbformat": 4,
 "nbformat_minor": 2
}
