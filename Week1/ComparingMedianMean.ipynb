{
 "cells": [
  {
   "cell_type": "code",
   "execution_count": 18,
   "metadata": {},
   "outputs": [],
   "source": [
    "def list_stats(array):\n",
    "    size = len(array)\n",
    "    \n",
    "    if size == 0:\n",
    "        return\n",
    "    \n",
    "    mean = sum(array)/size\n",
    "    \n",
    "    array.sort()\n",
    "    mid = size//2\n",
    "    \n",
    "    if mid%2 != 0:\n",
    "        median = (array[mid-1] + array[mid])/2\n",
    "    else:\n",
    "        median = array[mid]\n",
    "    \n",
    "    return median, mean"
   ]
  },
  {
   "cell_type": "code",
   "execution_count": 19,
   "metadata": {},
   "outputs": [
    {
     "name": "stdout",
     "output_type": "stream",
     "text": [
      "(2.4, 5.67)\n",
      "(2.55, 5.175)\n",
      "(1.5, 1.5)\n"
     ]
    }
   ],
   "source": [
    "if __name__ == '__main__':\n",
    "    # Run your function with the first example in the question.\n",
    "    m = list_stats([1.3, 2.4, 20.6, 0.95, 3.1])\n",
    "    print(m)\n",
    "    \n",
    "    m = list_stats([1.3, 2.4, 20.6, 0.95, 3.1, 2.7])\n",
    "    print(m)\n",
    "\n",
    "    # Run your function with the second example in the question\n",
    "    m = list_stats([1.5])\n",
    "    print(m)"
   ]
  }
 ],
 "metadata": {
  "kernelspec": {
   "display_name": "Python 3",
   "language": "python",
   "name": "python3"
  },
  "language_info": {
   "codemirror_mode": {
    "name": "ipython",
    "version": 3
   },
   "file_extension": ".py",
   "mimetype": "text/x-python",
   "name": "python",
   "nbconvert_exporter": "python",
   "pygments_lexer": "ipython3",
   "version": "3.7.3"
  }
 },
 "nbformat": 4,
 "nbformat_minor": 2
}
