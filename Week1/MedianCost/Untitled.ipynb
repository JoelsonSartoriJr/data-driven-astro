{
 "cells": [
  {
   "cell_type": "code",
   "execution_count": 4,
   "metadata": {},
   "outputs": [],
   "source": [
    "from astropy.io import fits\n",
    "import numpy as np\n",
    "import time"
   ]
  },
  {
   "cell_type": "code",
   "execution_count": 11,
   "metadata": {},
   "outputs": [],
   "source": [
    "def median_fits(files):\n",
    "    start = time.time()\n",
    "    fits_list = []\n",
    "    for file in files:\n",
    "        hdul = fits.open(file)\n",
    "        fits_list.append(hdul[0].data)\n",
    "        hdul.close()\n",
    "        \n",
    "    fits_stack = np.dstack(fits_list)\n",
    "    \n",
    "    median = np.median(fits_stack, axis=2)\n",
    "    memory = fits_stack.nbytes\n",
    "    memory /= 1024\n",
    "    \n",
    "    stop = time.time() - start\n",
    "    \n",
    "    return median, stop, memory"
   ]
  },
  {
   "cell_type": "code",
   "execution_count": 14,
   "metadata": {},
   "outputs": [
    {
     "name": "stdout",
     "output_type": "stream",
     "text": [
      "0.012338057160377502 0.012180805206298828 625.0\n",
      "0.01186725776642561 0.02731609344482422 3437.5\n"
     ]
    }
   ],
   "source": [
    "if __name__ == '__main__':\n",
    "    # Run your function with first example in the question.\n",
    "    result = median_fits(['image0.fits', 'image1.fits'])\n",
    "    print(result[0][100, 100], result[1], result[2])\n",
    "  \n",
    "    # Run your function with second example in the question.\n",
    "    result = median_fits(['image{}.fits'.format(str(i)) for i in range(11)])\n",
    "    print(result[0][100, 100], result[1], result[2])"
   ]
  },
  {
   "cell_type": "code",
   "execution_count": null,
   "metadata": {},
   "outputs": [],
   "source": []
  }
 ],
 "metadata": {
  "kernelspec": {
   "display_name": "Python 3",
   "language": "python",
   "name": "python3"
  },
  "language_info": {
   "codemirror_mode": {
    "name": "ipython",
    "version": 3
   },
   "file_extension": ".py",
   "mimetype": "text/x-python",
   "name": "python",
   "nbconvert_exporter": "python",
   "pygments_lexer": "ipython3",
   "version": "3.7.3"
  }
 },
 "nbformat": 4,
 "nbformat_minor": 2
}
