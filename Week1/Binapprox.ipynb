{
 "cells": [
  {
   "cell_type": "code",
   "execution_count": 13,
   "metadata": {},
   "outputs": [],
   "source": [
    "import numpy as np"
   ]
  },
  {
   "cell_type": "code",
   "execution_count": 14,
   "metadata": {},
   "outputs": [],
   "source": [
    "def median_bins(values, B):\n",
    "    mean = np.mean(values)\n",
    "    std = np.std(values)\n",
    "    \n",
    "    #init bins\n",
    "    left_bins = 0\n",
    "    bins = np.zeros(B)\n",
    "    bin_whidth = (2*std)/B\n",
    "    \n",
    "    #Bins\n",
    "    mean_std = mean - std\n",
    "    meanstd = mean + std\n",
    "    \n",
    "    for value in values:\n",
    "        if value < mean_std:\n",
    "            left_bins +=1\n",
    "        elif value < meanstd:\n",
    "            bin = int((value - (mean_std))/bin_whidth)\n",
    "            bins[bin] +=1\n",
    "            \n",
    "    return mean, std, left_bins, bins"
   ]
  },
  {
   "cell_type": "code",
   "execution_count": 17,
   "metadata": {},
   "outputs": [],
   "source": [
    "def median_approx(values, B):\n",
    "    mean, std, left_bins, bins = median_bins(values, B)\n",
    "    size = len(values)\n",
    "    mid = (size + 2)/2\n",
    "    \n",
    "    count = left_bins\n",
    "    for b, bincount in enumerate(bins):\n",
    "        count += bincount\n",
    "        if count >= mid:\n",
    "            break\n",
    "    \n",
    "    width = 2*std/B\n",
    "    media = mean - std + width*(b + 0.5)\n",
    "    return media"
   ]
  },
  {
   "cell_type": "code",
   "execution_count": 18,
   "metadata": {},
   "outputs": [
    {
     "name": "stdout",
     "output_type": "stream",
     "text": [
      "(2.5, 1.707825127659933, 0, array([2., 3., 0.]))\n",
      "2.5\n",
      "(3.875, 2.521780125229002, 3, array([0., 1., 1., 1.]))\n",
      "4.50544503130725\n"
     ]
    }
   ],
   "source": [
    "if __name__ == '__main__':\n",
    "    # Run your functions with the first example in the question.\n",
    "    print(median_bins([1, 1, 3, 2, 2, 6], 3))\n",
    "    print(median_approx([1, 1, 3, 2, 2, 6], 3))\n",
    "\n",
    "    # Run your functions with the second example in the question.\n",
    "    print(median_bins([1, 5, 7, 7, 3, 6, 1, 1], 4))\n",
    "    print(median_approx([1, 5, 7, 7, 3, 6, 1, 1], 4))"
   ]
  }
 ],
 "metadata": {
  "kernelspec": {
   "display_name": "Python 3",
   "language": "python",
   "name": "python3"
  },
  "language_info": {
   "codemirror_mode": {
    "name": "ipython",
    "version": 3
   },
   "file_extension": ".py",
   "mimetype": "text/x-python",
   "name": "python",
   "nbconvert_exporter": "python",
   "pygments_lexer": "ipython3",
   "version": "3.7.3"
  }
 },
 "nbformat": 4,
 "nbformat_minor": 2
}
