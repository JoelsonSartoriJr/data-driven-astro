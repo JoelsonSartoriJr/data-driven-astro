{
 "cells": [
  {
   "cell_type": "code",
   "execution_count": 3,
   "metadata": {},
   "outputs": [],
   "source": [
    "import numpy as np"
   ]
  },
  {
   "cell_type": "code",
   "execution_count": 8,
   "metadata": {},
   "outputs": [],
   "source": [
    "def median_bins(array, b):\n",
    "    \"\"\"Calculated median bins\n",
    "    \n",
    "    Arguments:\n",
    "        array {array} -- Vector values\n",
    "        b {integer} -- vector size\n",
    "    Returns:\n",
    "        float -- median array\n",
    "        float -- standard deviation array\n",
    "        int -- size left bins\n",
    "        array -- array bins\n",
    "    \"\"\"\n",
    "    mean = np.mean(array)\n",
    "    std = np.std(array)\n",
    "    \n",
    "    #init bins\n",
    "    left_bin = 0\n",
    "    bins = np.zeros(b)\n",
    "    bin_width = 2*std/b\n",
    "    \n",
    "    #bin values\n",
    "    for arr in array:\n",
    "        if arr < mean - std:\n",
    "            left_bin += 1\n",
    "        elif arr < mean + std:\n",
    "                bini = int ((arr - (mean - std))/bin_width)\n",
    "                bins[bini] += 1 \n",
    "    return mean, std, left_bin, bins\n",
    "\n",
    "def median_approx(array, b):\n",
    "    \"\"\"Calculated median approximate\n",
    "    \n",
    "    Arguments:\n",
    "        array {array} -- Vector values\n",
    "        b {integer} -- vector size\n",
    "    Returns:\n",
    "        float -- median approximate array\n",
    "    \"\"\"\n",
    "    mean, std, left_bin, bins = median_bins(array, b)\n",
    "    n = len(array)\n",
    "    mid = (n + 1)/2\n",
    "\n",
    "    count = left_bin\n",
    "    for b, bincount in enumerate(bins):\n",
    "        count += bincount\n",
    "        if count >= mid:\n",
    "            break\n",
    "\n",
    "    width = 2*std/b\n",
    "    median = mean - std + width*(b + 0.5)\n",
    "    \n",
    "    return median"
   ]
  },
  {
   "cell_type": "code",
   "execution_count": 9,
   "metadata": {},
   "outputs": [
    {
     "name": "stdout",
     "output_type": "stream",
     "text": [
      "(2.5, 1.707825127659933, 0, array([2., 3., 0.]))\n",
      "5.915650255319866\n",
      "(3.875, 2.521780125229002, 3, array([0., 1., 1., 1.]))\n",
      "7.657670187843503\n"
     ]
    }
   ],
   "source": [
    "if __name__ == '__main__':\n",
    "    print(median_bins([1, 1, 3, 2, 2, 6], 3))\n",
    "    print(median_approx([1, 1, 3, 2, 2, 6], 3))\n",
    "\n",
    "    print(median_bins([1, 5, 7, 7, 3, 6, 1, 1], 4))\n",
    "    print(median_approx([1, 5, 7, 7, 3, 6, 1, 1], 4))"
   ]
  },
  {
   "cell_type": "code",
   "execution_count": null,
   "metadata": {},
   "outputs": [],
   "source": []
  }
 ],
 "metadata": {
  "kernelspec": {
   "display_name": "Python 3",
   "language": "python",
   "name": "python3"
  },
  "language_info": {
   "codemirror_mode": {
    "name": "ipython",
    "version": 3
   },
   "file_extension": ".py",
   "mimetype": "text/x-python",
   "name": "python",
   "nbconvert_exporter": "python",
   "pygments_lexer": "ipython3",
   "version": "3.7.3"
  }
 },
 "nbformat": 4,
 "nbformat_minor": 2
}
