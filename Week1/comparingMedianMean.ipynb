{
 "cells": [
  {
   "cell_type": "code",
   "execution_count": 3,
   "metadata": {},
   "outputs": [],
   "source": [
    "def list_stats(array):\n",
    "    \"\"\"Calculated median\n",
    "    \n",
    "    Arguments:\n",
    "        array {array} -- Vector values\n",
    "    Returns:\n",
    "        float -- median vector\n",
    "    \"\"\"\n",
    "    n = len(array)\n",
    "    array.sort()\n",
    "    s = sum(array)\n",
    "    mean = s/n\n",
    "    mid = n//2\n",
    "    if n%2 == 0:\n",
    "        median = (array[mid-1] - array[mid])//2\n",
    "    else:\n",
    "        median = (mid)\n",
    "    \n",
    "    return round(median,3)"
   ]
  },
  {
   "cell_type": "code",
   "execution_count": 4,
   "metadata": {},
   "outputs": [
    {
     "name": "stdout",
     "output_type": "stream",
     "text": [
      "-1.0\n",
      "0\n"
     ]
    }
   ],
   "source": [
    "if __name__ == '__main__':\n",
    "    \n",
    "    m = list_stats([1.3, 2.4, 20.6, 0.95, 3.1, 2.7])\n",
    "    print(m)\n",
    "\n",
    "    m = list_stats([1.5])\n",
    "    print(m)"
   ]
  }
 ],
 "metadata": {
  "kernelspec": {
   "display_name": "Python 3",
   "language": "python",
   "name": "python3"
  },
  "language_info": {
   "codemirror_mode": {
    "name": "ipython",
    "version": 3
   },
   "file_extension": ".py",
   "mimetype": "text/x-python",
   "name": "python",
   "nbconvert_exporter": "python",
   "pygments_lexer": "ipython3",
   "version": "3.7.3"
  }
 },
 "nbformat": 4,
 "nbformat_minor": 2
}
