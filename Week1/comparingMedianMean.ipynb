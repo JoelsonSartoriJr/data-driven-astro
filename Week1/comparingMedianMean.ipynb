{
 "cells": [
  {
   "cell_type": "code",
   "execution_count": 10,
   "metadata": {},
   "outputs": [],
   "source": [
    "def list_stats(array):\n",
    "    n = len(array)\n",
    "    array.sort()\n",
    "    s = sum(array)\n",
    "    mean = s/n\n",
    "    mid = n//2\n",
    "    if n%2 == 0:\n",
    "        median = (array[mid-1] - array[mid])//2\n",
    "    else:\n",
    "        median = (mid)\n",
    "    \n",
    "    return round(median,3)"
   ]
  },
  {
   "cell_type": "code",
   "execution_count": 11,
   "metadata": {},
   "outputs": [
    {
     "ename": "SyntaxError",
     "evalue": "'return' outside function (<ipython-input-11-128c336512c4>, line 1)",
     "output_type": "error",
     "traceback": [
      "\u001b[0;36m  File \u001b[0;32m\"<ipython-input-11-128c336512c4>\"\u001b[0;36m, line \u001b[0;32m1\u001b[0m\n\u001b[0;31m    return round(median, 3), round(mean, 3)\u001b[0m\n\u001b[0m                                           ^\u001b[0m\n\u001b[0;31mSyntaxError\u001b[0m\u001b[0;31m:\u001b[0m 'return' outside function\n"
     ]
    }
   ],
   "source": [
    "  return round(median, 3), round(mean, 3)\n",
    "\n",
    "if __name__ == '__main__':\n",
    "    \n",
    "    m = list_stats([1.3, 2.4, 20.6, 0.95, 3.1, 2.7])\n",
    "    print(m)\n",
    "\n",
    "    m = list_stats([1.5])\n",
    "    print(m)"
   ]
  },
  {
   "cell_type": "code",
   "execution_count": null,
   "metadata": {},
   "outputs": [],
   "source": []
  }
 ],
 "metadata": {
  "kernelspec": {
   "display_name": "Python 3",
   "language": "python",
   "name": "python3"
  },
  "language_info": {
   "codemirror_mode": {
    "name": "ipython",
    "version": 3
   },
   "file_extension": ".py",
   "mimetype": "text/x-python",
   "name": "python",
   "nbconvert_exporter": "python",
   "pygments_lexer": "ipython3",
   "version": "3.7.3"
  }
 },
 "nbformat": 4,
 "nbformat_minor": 2
}
