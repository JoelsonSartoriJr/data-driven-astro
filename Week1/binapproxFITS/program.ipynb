{
 "cells": [
  {
   "cell_type": "code",
   "execution_count": 3,
   "metadata": {},
   "outputs": [],
   "source": [
    "from helper import running_stats\n",
    "from astropy.io import fits\n",
    "import numpy as np"
   ]
  },
  {
   "cell_type": "code",
   "execution_count": 6,
   "metadata": {},
   "outputs": [],
   "source": [
    "def median_bins_fits(fits_lists, b):\n",
    "    \"\"\"Calculate media bins from fits files\n",
    "    \n",
    "    Arguments:\n",
    "        array {array} -- Vector fits\n",
    "        b {integer} -- vector size\n",
    "    Returns:\n",
    "        float -- median array\n",
    "        float -- standard deviation array\n",
    "        int -- size left bins\n",
    "        array -- array bins\n",
    "    \"\"\"\n",
    "    mean, std = running_stats(fits_lists)\n",
    "    \n",
    "    dim  = mean.shape\n",
    "    \n",
    "    #init beans\n",
    "    left_bin = np.zeros(dim)\n",
    "    bins = np.zeros((dim[0], dim[1], b))\n",
    "    bin_width = 2*std/b\n",
    "    \n",
    "    for fit in fits_lists:\n",
    "        \n",
    "        hdulist = fits.open(fit)\n",
    "        data = hdulist[0].data\n",
    "        \n",
    "        for i in range(dim[0]):\n",
    "            for j in range(dim[1]):\n",
    "                value = data[i, j]\n",
    "                mean_ = mean[i, j]\n",
    "                std_ = std[i, j]\n",
    "                \n",
    "                if value < mean_ - std_:\n",
    "                    left_bin[i, j] += 1\n",
    "                elif value >= mean_ - std_ and value < mean_ + std_:\n",
    "                    bini = int((value - (mean_ - std_))/bin_width[i, j])\n",
    "                    bins[i, j, bini] += 1\n",
    "    \n",
    "    return mean, std, left_bin, bins\n",
    "\n",
    "def median_approx_fits(files, b):\n",
    "    \"\"\"Calculate media bins from fits files\n",
    "    \n",
    "    Arguments:\n",
    "        array {array} -- Vector fits\n",
    "        b {integer} -- vector size\n",
    "    Returns:\n",
    "        float -- median approximate array\n",
    "    \"\"\"\n",
    "    median_bins_fits(['image0.fits', 'image1.fits', 'image2.fits'], 5)\n",
    "    \n",
    "    dim = mean.shape\n",
    "    n = len(files)\n",
    "    mid = (n + 1)/2\n",
    "    bin_width = 2*std/b\n",
    "    \n",
    "    median = np.zeros(dim)\n",
    "    \n",
    "    for i in range(dim[0]):\n",
    "        for j in range(dim[1]):\n",
    "            count = left_bin[i, j]\n",
    "            for b, bincount in enumerate(bins[i, j]):\n",
    "                count += bincount\n",
    "                if count >= mid:\n",
    "                    break\n",
    "            median[i, j] = mean[i, j] - std[i, j] + bin_width[i ,j]*(b + 0.5)\n",
    "    return median"
   ]
  },
  {
   "cell_type": "code",
   "execution_count": 7,
   "metadata": {},
   "outputs": [],
   "source": [
    "if __name__ == '__main__':\n",
    "    mean, std, left_bin, bins = median_bins_fits(['image0.fits', 'image1.fits', 'image2.fits'], 5)\n",
    "    median = median_approx_fits(['image0.fits', 'image1.fits', 'image2.fits'], 5)"
   ]
  }
 ],
 "metadata": {
  "kernelspec": {
   "display_name": "Python 3",
   "language": "python",
   "name": "python3"
  },
  "language_info": {
   "codemirror_mode": {
    "name": "ipython",
    "version": 3
   },
   "file_extension": ".py",
   "mimetype": "text/x-python",
   "name": "python",
   "nbconvert_exporter": "python",
   "pygments_lexer": "ipython3",
   "version": "3.7.3"
  }
 },
 "nbformat": 4,
 "nbformat_minor": 2
}
