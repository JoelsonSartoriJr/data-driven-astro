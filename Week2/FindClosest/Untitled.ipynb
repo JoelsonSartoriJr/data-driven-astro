{
 "cells": [
  {
   "cell_type": "code",
   "execution_count": 1,
   "metadata": {},
   "outputs": [],
   "source": [
    "import numpy as np"
   ]
  },
  {
   "cell_type": "code",
   "execution_count": 2,
   "metadata": {},
   "outputs": [],
   "source": [
    "def hms2dec(h, m, s):\n",
    "    return 15*(h + m/60 + s/(60*60))\n",
    "\n",
    "def dms2dec(d, arcm, arcs):\n",
    "    \n",
    "    if d < 0:\n",
    "        return -1*(-1*d + arcm/60 + arcs/(60*60))\n",
    "    \n",
    "    else:\n",
    "        return d+ arcm/60 + arcs/(60*60)"
   ]
  },
  {
   "cell_type": "code",
   "execution_count": 4,
   "metadata": {},
   "outputs": [],
   "source": [
    "def import_bss(file):\n",
    "    res = []\n",
    "    data = np.loadtxt(file, usecols=range(1,7))\n",
    "    \n",
    "    for i, row in enumerate(data, 1):\n",
    "        hms = hms2dec(row[0], row[1], row[2])\n",
    "        dms = dms2dec(row[3], row[4], row[5])\n",
    "        res.append((i, hms, dms))\n",
    "        \n",
    "    return res"
   ]
  },
  {
   "cell_type": "code",
   "execution_count": 5,
   "metadata": {},
   "outputs": [],
   "source": [
    "def angular_dist(r1, d1, r2, d2):\n",
    "    r1 = np.radians(r1)\n",
    "    d1 = np.radians(d1)\n",
    "    r2 = np.radians(r2)\n",
    "    d2 = np.radians(d2)\n",
    "    \n",
    "    a = np.sin(np.abs(d1 - d2)/2)**2\n",
    "    b = np.cos(d1)*np.cos(d2)*np.sin(np.abs(r1 - r2)/2)**2\n",
    "    d = 2*np.arcsin(np.sqrt(a + b))\n",
    "    \n",
    "    return np.degrees(d)"
   ]
  },
  {
   "cell_type": "code",
   "execution_count": 6,
   "metadata": {},
   "outputs": [],
   "source": [
    "def find_closest(cat, ra, dec):\n",
    "    min_dist = np.inf\n",
    "    min_id = None\n",
    "    for id1, ra1, dec1 in cat:\n",
    "        dist = angular_dist(ra1, dec1, ra, dec)\n",
    "        if dist < min_dist:\n",
    "            min_id = id1\n",
    "            min_dist = dist\n",
    "            \n",
    "    return min_id, min_dist"
   ]
  },
  {
   "cell_type": "code",
   "execution_count": 7,
   "metadata": {},
   "outputs": [
    {
     "name": "stdout",
     "output_type": "stream",
     "text": [
      "(156, 3.7670580226469053)\n",
      "(26, 57.729135775621295)\n"
     ]
    }
   ],
   "source": [
    "if __name__ == '__main__':\n",
    "    cat = import_bss('bss.dat')\n",
    "  \n",
    "    # First example from the question\n",
    "    print(find_closest(cat, 175.3, -32.5))\n",
    "\n",
    "    # Second example in the question\n",
    "    print(find_closest(cat, 32.2, 40.7))"
   ]
  }
 ],
 "metadata": {
  "kernelspec": {
   "display_name": "Python 3",
   "language": "python",
   "name": "python3"
  },
  "language_info": {
   "codemirror_mode": {
    "name": "ipython",
    "version": 3
   },
   "file_extension": ".py",
   "mimetype": "text/x-python",
   "name": "python",
   "nbconvert_exporter": "python",
   "pygments_lexer": "ipython3",
   "version": "3.7.3"
  }
 },
 "nbformat": 4,
 "nbformat_minor": 2
}
