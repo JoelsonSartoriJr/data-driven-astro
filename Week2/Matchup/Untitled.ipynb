{
 "cells": [
  {
   "cell_type": "code",
   "execution_count": 1,
   "metadata": {},
   "outputs": [],
   "source": [
    "import numpy as np"
   ]
  },
  {
   "cell_type": "code",
   "execution_count": 2,
   "metadata": {},
   "outputs": [],
   "source": [
    "def hms2dec(h, m, s):\n",
    "    return 15*( h + m/60 + s/(60*60))\n",
    "\n",
    "def dms2dec(d, arcm, arcs):\n",
    "    if d < 0:\n",
    "        return -1*( -1*d + arcm/60 + arcs/(60*60))\n",
    "    else:\n",
    "        return d + arcm/60 + arcs/(60*60)"
   ]
  },
  {
   "cell_type": "code",
   "execution_count": 3,
   "metadata": {},
   "outputs": [],
   "source": [
    "def import_bss(file):\n",
    "    res = []\n",
    "    data = np.loadtxt(file, usecols=range(1,7))\n",
    "    for i, row in enumerate(data, 1):\n",
    "        hms = hms2dec(row[0], row[1], row[2])\n",
    "        dms = dms2dec(row[3], row[4], row[5])\n",
    "        res.append((i, hms, dms))\n",
    "    \n",
    "    return res\n",
    "\n",
    "def import_super(file):\n",
    "    res = []\n",
    "    data = np.loadtxt(file, delimiter=',', skiprows=1, usecols=[0, 1])\n",
    "    for i, row in enumerate(data, 1):\n",
    "        res.append((i, row[0], row[1]))\n",
    "    \n",
    "    return res"
   ]
  },
  {
   "cell_type": "code",
   "execution_count": 4,
   "metadata": {},
   "outputs": [],
   "source": [
    "def angular_dist(r1, d1, r2, d2):\n",
    "    #Convert radians\n",
    "    r1 = np.radians(r1)\n",
    "    d1 = np.radians(d1)\n",
    "    r2 = np.radians(r2)\n",
    "    d2 = np.radians(d2)\n",
    "    \n",
    "    a = np.sin(np.abs(d1 - d2)/2)**2\n",
    "    b = np.cos(d1)*np.cos(d2)*np.sin(np.abs(r1 - r2)/2)**2\n",
    "    d = 2*np.arcsin(np.sqrt(a + b))\n",
    "    \n",
    "    return np.degrees(d)"
   ]
  },
  {
   "cell_type": "code",
   "execution_count": 5,
   "metadata": {},
   "outputs": [],
   "source": [
    "def crossmatch(cat1, cat2, max_radius):\n",
    "    matches = []\n",
    "    no_matches = []\n",
    "    \n",
    "    for id1, ra1, dec1 in cat1:\n",
    "        closest_dist = np.inf\n",
    "        closest_id2 = None\n",
    "        for id2, ra2, dec2 in cat2:\n",
    "            dist = angular_dist(ra1, dec1, ra2, dec2)\n",
    "            if dist < closest_dist:\n",
    "                closest_id2 = id2\n",
    "                closest_dist = dist\n",
    "        if closest_dist > max_radius:\n",
    "            no_matches.append(id1)\n",
    "        else:\n",
    "            matches.append((id1, closest_id2, closest_dist))\n",
    "    \n",
    "    return matches, no_matches"
   ]
  },
  {
   "cell_type": "code",
   "execution_count": 6,
   "metadata": {},
   "outputs": [
    {
     "name": "stdout",
     "output_type": "stream",
     "text": [
      "[(1, 2, 0.00010988610938710059), (2, 4, 0.0007649845967242495), (3, 5, 0.00020863352870707666)]\n",
      "[5, 6, 11]\n",
      "9\n",
      "[(1, 2, 0.00010988610938710059), (2, 4, 0.0007649845967242495), (3, 5, 0.00020863352870707666)]\n",
      "[5, 6, 11]\n",
      "40\n"
     ]
    }
   ],
   "source": [
    "# You can use this to test your function.\n",
    "# Any code inside this `if` statement will be ignored by the automarker.\n",
    "if __name__ == '__main__':\n",
    "    bss_cat = import_bss('bss.dat')\n",
    "    super_cat = import_super('super.csv')\n",
    "\n",
    "    # First example in the question\n",
    "    max_dist = 40/3600\n",
    "    matches, no_matches = crossmatch(bss_cat, super_cat, max_dist)\n",
    "    print(matches[:3])\n",
    "    print(no_matches[:3])\n",
    "    print(len(no_matches))\n",
    "\n",
    "    # Second example in the question\n",
    "    max_dist = 5/3600\n",
    "    matches, no_matches = crossmatch(bss_cat, super_cat, max_dist)\n",
    "    print(matches[:3])\n",
    "    print(no_matches[:3])\n",
    "    print(len(no_matches))"
   ]
  },
  {
   "cell_type": "code",
   "execution_count": null,
   "metadata": {},
   "outputs": [],
   "source": []
  }
 ],
 "metadata": {
  "kernelspec": {
   "display_name": "Python 3",
   "language": "python",
   "name": "python3"
  },
  "language_info": {
   "codemirror_mode": {
    "name": "ipython",
    "version": 3
   },
   "file_extension": ".py",
   "mimetype": "text/x-python",
   "name": "python",
   "nbconvert_exporter": "python",
   "pygments_lexer": "ipython3",
   "version": "3.7.3"
  }
 },
 "nbformat": 4,
 "nbformat_minor": 2
}
