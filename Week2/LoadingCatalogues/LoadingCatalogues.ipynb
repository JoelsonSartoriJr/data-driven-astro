{
 "cells": [
  {
   "cell_type": "code",
   "execution_count": 1,
   "metadata": {},
   "outputs": [],
   "source": [
    "import numpy as np"
   ]
  },
  {
   "cell_type": "code",
   "execution_count": 20,
   "metadata": {},
   "outputs": [],
   "source": [
    "def hms2dec(h, m, s):\n",
    "    \"\"\"Converts right ascension from HMS to decimal degrees\n",
    "    \n",
    "    Arguments:\n",
    "        h {integer} -- Hours\n",
    "        m {integer} -- Minutes\n",
    "        s {integer} -- Seconds\n",
    "    \n",
    "    Returns:\n",
    "        integer -- Converted rigth ascension\n",
    "    \"\"\"\n",
    "    result = (15*(h+m/60+s/(60*60)))\n",
    "    return round(result, 3)"
   ]
  },
  {
   "cell_type": "code",
   "execution_count": 21,
   "metadata": {},
   "outputs": [],
   "source": [
    "def dms2dec(d, arcm, arcs):\n",
    "    \"\"\"Convert decimal degrees to dms\n",
    "    \n",
    "    Arguments:\n",
    "        d {integer} -- Degrees\n",
    "        arcm {integer} -- Arcminutes\n",
    "        arcs {float} -- Arcseconds\n",
    "    \n",
    "    Returns:\n",
    "        integer -- Degrees to dms\n",
    "    \"\"\"\n",
    "    \n",
    "    if d < 0:\n",
    "        result = -1*((-1*d) +(arcm/60)+(arcs/(60*60)))\n",
    "    else:\n",
    "        result = d+(arcm/60)+(arcs/(60*60))\n",
    "    return round(result, 3)"
   ]
  },
  {
   "cell_type": "code",
   "execution_count": 27,
   "metadata": {},
   "outputs": [],
   "source": [
    "def import_bss():\n",
    "    res = []\n",
    "    data = np.loadtxt('bss.dat', usecols=range(1, 7))\n",
    "    for i, row in enumerate(data, 1):\n",
    "        hms = hms2dec(row[0], row[1], row[2])\n",
    "        dms = dms2dec(row[3], row[4], row[5])\n",
    "        res.append((i, hms, dms))\n",
    "    return res"
   ]
  },
  {
   "cell_type": "code",
   "execution_count": 30,
   "metadata": {},
   "outputs": [],
   "source": [
    "def import_super():\n",
    "    res = []\n",
    "    data = np.loadtxt('super.csv', delimiter=',', skiprows=1, usecols=[0, 1])\n",
    "    for i, row in enumerate(data, 1):\n",
    "        res.append((i, row[0], row[1]))\n",
    "    return res"
   ]
  },
  {
   "cell_type": "code",
   "execution_count": 31,
   "metadata": {},
   "outputs": [
    {
     "name": "stdout",
     "output_type": "stream",
     "text": [
      "[(1, 1.149, -47.605), (2, 2.65, -30.463), (3, 2.755, -26.209)]\n",
      "[(1, 1.0583407, -52.9162402), (2, 2.6084425, -41.5005753), (3, 2.7302499, -27.706955)]\n"
     ]
    }
   ],
   "source": [
    "if __name__ == '__main__':\n",
    "    # Output of the import_bss and import_super functions\n",
    "    bss_cat = import_bss()\n",
    "    super_cat = import_super()\n",
    "    print(bss_cat)\n",
    "    print(super_cat)"
   ]
  }
 ],
 "metadata": {
  "kernelspec": {
   "display_name": "Python 3",
   "language": "python",
   "name": "python3"
  },
  "language_info": {
   "codemirror_mode": {
    "name": "ipython",
    "version": 3
   },
   "file_extension": ".py",
   "mimetype": "text/x-python",
   "name": "python",
   "nbconvert_exporter": "python",
   "pygments_lexer": "ipython3",
   "version": "3.7.5rc1"
  }
 },
 "nbformat": 4,
 "nbformat_minor": 2
}
