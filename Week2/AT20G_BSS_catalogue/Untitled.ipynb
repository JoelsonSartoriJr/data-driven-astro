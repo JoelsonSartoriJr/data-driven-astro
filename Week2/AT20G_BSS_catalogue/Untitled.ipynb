{
 "cells": [
  {
   "cell_type": "code",
   "execution_count": 13,
   "metadata": {},
   "outputs": [],
   "source": [
    "import numpy as np"
   ]
  },
  {
   "cell_type": "code",
   "execution_count": 17,
   "metadata": {},
   "outputs": [],
   "source": [
    "def hms2dec(h, m, s):\n",
    "    return 15*(h + m/60 + s/(60*60))\n",
    "\n",
    "def dms2dec(d, arcm, arcs):\n",
    "    \n",
    "    if d < 0:\n",
    "        return -1*((-1*d) + (arcm/60) + (arcs/(60*60)))\n",
    "    else:\n",
    "        return d + (arcm/60) + (arcs/(60*60))"
   ]
  },
  {
   "cell_type": "code",
   "execution_count": 20,
   "metadata": {},
   "outputs": [],
   "source": [
    "def import_bss(file):\n",
    "    res = []\n",
    "    data = np.loadtxt(file, usecols=range(1,7))\n",
    "    \n",
    "    for i, row in enumerate(data, 1):\n",
    "        hms = hms2dec(row[0], row[1], row[2])\n",
    "        dms = dms2dec(row[3], row[4], row[5])\n",
    "        res.append((i, hms, dms))\n",
    "    \n",
    "    return res\n",
    "\n",
    "def import_super(file):\n",
    "    res = []\n",
    "    data = np.loadtxt(file, delimiter=',', skiprows=1, usecols=[0,1])\n",
    "    \n",
    "    for i, row in enumerate(data, 1):\n",
    "        res.append((i, row[0], row[1]))\n",
    "    \n",
    "    return res"
   ]
  },
  {
   "cell_type": "code",
   "execution_count": 21,
   "metadata": {},
   "outputs": [
    {
     "name": "stdout",
     "output_type": "stream",
     "text": [
      "[(1, 1.1485416666666666, -47.60530555555556), (2, 2.6496666666666666, -30.463416666666667), (3, 2.7552916666666665, -26.209194444444442)]\n",
      "[(1, 1.0583407, -52.9162402), (2, 2.6084425, -41.5005753), (3, 2.7302499, -27.706955)]\n"
     ]
    }
   ],
   "source": [
    "# You can use this to test your function.\n",
    "# Any code inside this `if` statement will be ignored by the automarker.\n",
    "if __name__ == '__main__':\n",
    "    # Output of the import_bss and import_super functions\n",
    "    bss_cat = import_bss('bss.dat')\n",
    "    super_cat = import_super('super.csv')\n",
    "    print(bss_cat)\n",
    "    print(super_cat)"
   ]
  }
 ],
 "metadata": {
  "kernelspec": {
   "display_name": "Python 3",
   "language": "python",
   "name": "python3"
  },
  "language_info": {
   "codemirror_mode": {
    "name": "ipython",
    "version": 3
   },
   "file_extension": ".py",
   "mimetype": "text/x-python",
   "name": "python",
   "nbconvert_exporter": "python",
   "pygments_lexer": "ipython3",
   "version": "3.7.3"
  }
 },
 "nbformat": 4,
 "nbformat_minor": 2
}
