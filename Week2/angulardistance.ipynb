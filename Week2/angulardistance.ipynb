{
 "cells": [
  {
   "cell_type": "code",
   "execution_count": null,
   "metadata": {},
   "outputs": [],
   "source": [
    "def angular_dist(ra1, dec1, ra2, dec2):\n",
    "    \"\"\"Calculate fibonacci\n",
    "    \n",
    "    Arguments:\n",
    "        n {integer} -- Index Fibonacci\n",
    "    \n",
    "    Returns:\n",
    "        integer -- Calculate number fibonacci\n",
    "    \"\"\""
   ]
  }
 ],
 "metadata": {
  "kernelspec": {
   "display_name": "Python 3",
   "language": "python",
   "name": "python3"
  },
  "language_info": {
   "codemirror_mode": {
    "name": "ipython",
    "version": 3
   },
   "file_extension": ".py",
   "mimetype": "text/x-python",
   "name": "python",
   "nbconvert_exporter": "python",
   "pygments_lexer": "ipython3",
   "version": "3.7.3"
  }
 },
 "nbformat": 4,
 "nbformat_minor": 2
}
