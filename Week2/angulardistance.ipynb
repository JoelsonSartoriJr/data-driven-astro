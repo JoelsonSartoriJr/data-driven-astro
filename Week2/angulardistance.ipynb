{
 "cells": [
  {
   "cell_type": "code",
   "execution_count": 7,
   "metadata": {},
   "outputs": [],
   "source": [
    "import numpy as np\n",
    "def angular_dist(r1, d1, r2, d2):\n",
    "    \"\"\"Calculate angular distance\n",
    "    \n",
    "    Arguments:\n",
    "        r1 {float} -- Radius 1\n",
    "        d1 {float} -- Distance 1\n",
    "        r2 {float} -- Radius 1\n",
    "        d2 {float} -- Distance 2\n",
    "    \n",
    "    Returns:\n",
    "        integer -- Calculate distance between two objects\n",
    "    \"\"\"\n",
    "    # Convert radians\n",
    "    r1 = np.radians(r1)\n",
    "    d1 = np.radians(d1)\n",
    "    r2 = np.radians(r2)\n",
    "    d2 = np.radians(d2)\n",
    "    \n",
    "    a = np.sin(np.abs(d1 - d2)/2)**2\n",
    "    b = np.cos(d1)*np.cos(d2)*np.sin(np.abs(r1 - r2)/2)**2\n",
    "    d = 2*np.arcsin(np.sqrt(a + b))\n",
    "    \n",
    "    #Return to degrees\n",
    "    return np.degrees(d)"
   ]
  },
  {
   "cell_type": "code",
   "execution_count": 8,
   "metadata": {},
   "outputs": [
    {
     "name": "stdout",
     "output_type": "stream",
     "text": [
      "8.100344956691\n",
      "29.28963988673279\n"
     ]
    }
   ],
   "source": [
    "if __name__ == '__main__':\n",
    "    # Run your function with the first example in the question.\n",
    "    print(angular_dist(21.07, 0.1, 21.15, 8.2))\n",
    "\n",
    "    # Run your function with the second example in the question\n",
    "    print(angular_dist(10.3, -3, 24.3, -29))"
   ]
  },
  {
   "cell_type": "code",
   "execution_count": null,
   "metadata": {},
   "outputs": [],
   "source": []
  }
 ],
 "metadata": {
  "kernelspec": {
   "display_name": "Python 3",
   "language": "python",
   "name": "python3"
  },
  "language_info": {
   "codemirror_mode": {
    "name": "ipython",
    "version": 3
   },
   "file_extension": ".py",
   "mimetype": "text/x-python",
   "name": "python",
   "nbconvert_exporter": "python",
   "pygments_lexer": "ipython3",
   "version": "3.7.3"
  }
 },
 "nbformat": 4,
 "nbformat_minor": 2
}
