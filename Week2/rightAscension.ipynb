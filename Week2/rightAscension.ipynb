{
 "cells": [
  {
   "cell_type": "code",
   "execution_count": 1,
   "metadata": {},
   "outputs": [],
   "source": [
    "def hms2dec(h, m, s):\n",
    "    \"\"\"Converts right ascension from HMS to decimal degrees\n",
    "    \n",
    "    Arguments:\n",
    "        h {integer} -- Hours\n",
    "        m {integer} -- Minutes\n",
    "        s {integer} -- Seconds\n",
    "    \n",
    "    Returns:\n",
    "        integer -- Converted rigth ascension\n",
    "    \"\"\"\n",
    "    result = (15*(h+m/60+s/(60*60)))\n",
    "    return round(result, 3)\n",
    "\n",
    "def dms2dec(d, arcm, arcs):\n",
    "    \"\"\"Convert decimal degrees to dms\n",
    "    \n",
    "    Arguments:\n",
    "        d {integer} -- Degrees\n",
    "        arcm {integer} -- Arcminutes\n",
    "        arcs {float} -- Arcseconds\n",
    "    \n",
    "    Returns:\n",
    "        integer -- Degrees to dms\n",
    "    \"\"\"\n",
    "    \n",
    "    if d < 0:\n",
    "        result = -1*((-1*d) +(arcm/60)+(arcs/(60*60)))\n",
    "    else:\n",
    "        result = d+(arcm/60)+(arcs/(60*60))\n",
    "    return round(result, 3)"
   ]
  },
  {
   "cell_type": "code",
   "execution_count": 3,
   "metadata": {},
   "outputs": [
    {
     "name": "stdout",
     "output_type": "stream",
     "text": [
      "348.025\n",
      "22.955\n",
      "-66.085\n"
     ]
    }
   ],
   "source": [
    "if __name__ == '__main__':\n",
    "    # The first example from the question\n",
    "    print(hms2dec(23, 12, 6))\n",
    "\n",
    "    # The second example from the question\n",
    "    print(dms2dec(22, 57, 18))\n",
    "\n",
    "    # The third example from the question\n",
    "    print(dms2dec(-66, 5, 5.1))"
   ]
  }
 ],
 "metadata": {
  "kernelspec": {
   "display_name": "Python 3",
   "language": "python",
   "name": "python3"
  },
  "language_info": {
   "codemirror_mode": {
    "name": "ipython",
    "version": 3
   },
   "file_extension": ".py",
   "mimetype": "text/x-python",
   "name": "python",
   "nbconvert_exporter": "python",
   "pygments_lexer": "ipython3",
   "version": "3.7.5rc1"
  }
 },
 "nbformat": 4,
 "nbformat_minor": 2
}
